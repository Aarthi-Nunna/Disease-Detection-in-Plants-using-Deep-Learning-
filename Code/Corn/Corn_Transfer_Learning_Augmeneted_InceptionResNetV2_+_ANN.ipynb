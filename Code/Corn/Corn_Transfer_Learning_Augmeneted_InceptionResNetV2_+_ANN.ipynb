{
  "cells": [
    {
      "cell_type": "markdown",
      "metadata": {
        "id": "H6Xu75nQu3FA"
      },
      "source": [
        "<h2> Transfer Learning - InceptionResNetV2 + ANN  (1 hidden 128 nodes)</h2>\n",
        "<hr>\n",
        "CORN DATASET\n",
        "<hr>\n",
        "About the Dataset:\n",
        "<br>\n",
        "<br>Common Rust - 1306 images\n",
        "<br>Gray Leaf Spot - 574 images\n",
        "<br>Blight -1146 images\n",
        "<br>Healthy - 1162 images\n",
        "<hr>\n",
        "<br>\n",
        "Accuracy: 30.75%\n",
        "\n",
        "InceptionResNetV2 - 164 Layer deep\n",
        "\n"
      ]
    },
    {
      "cell_type": "code",
      "execution_count": null,
      "metadata": {
        "colab": {
          "base_uri": "https://localhost:8080/"
        },
        "id": "DwJ7zPJ2d2yP",
        "outputId": "cf9d0a88-9103-4f61-dc1c-2e9173c1270c"
      },
      "outputs": [
        {
          "output_type": "stream",
          "name": "stdout",
          "text": [
            "Mounted at /content/drive\n"
          ]
        }
      ],
      "source": [
        "from google.colab import drive\n",
        "drive.mount('/content/drive')"
      ]
    },
    {
      "cell_type": "code",
      "execution_count": null,
      "metadata": {
        "id": "3fcn6-7AeDO4"
      },
      "outputs": [],
      "source": [
        "import pickle\n",
        "X = pickle.load(open('/content/drive/MyDrive/data/X_aug.pickle', 'rb'))\n",
        "y = pickle.load(open('/content/drive/MyDrive/data/y_aug .pickle', 'rb'))"
      ]
    },
    {
      "cell_type": "code",
      "execution_count": null,
      "metadata": {
        "colab": {
          "base_uri": "https://localhost:8080/"
        },
        "id": "ZvQLZ2R1e5eo",
        "outputId": "d1357270-fa0f-4565-d865-87f7f4e80427"
      },
      "outputs": [
        {
          "output_type": "execute_result",
          "data": {
            "text/plain": [
              "(13138, 80, 80, 3)"
            ]
          },
          "metadata": {},
          "execution_count": 4
        }
      ],
      "source": [
        "X.shape"
      ]
    },
    {
      "cell_type": "code",
      "execution_count": null,
      "metadata": {
        "id": "cIUHgVFcTSwN"
      },
      "outputs": [],
      "source": [
        "from keras.layers import Input, Lambda, Dense, Flatten, Dropout\n",
        "from keras.models import Model\n",
        "from keras.applications.inception_resnet_v2 import InceptionResNetV2\n",
        "from keras.applications.inception_resnet_v2 import preprocess_input\n",
        "from keras.preprocessing import image\n",
        "from keras.models import Sequential\n",
        "import numpy as np"
      ]
    },
    {
      "cell_type": "code",
      "execution_count": null,
      "metadata": {
        "id": "vn-Nv28qTS5h",
        "colab": {
          "base_uri": "https://localhost:8080/"
        },
        "outputId": "1520b2b0-1424-4e18-8a57-0d4fe9cb5715"
      },
      "outputs": [
        {
          "output_type": "stream",
          "name": "stdout",
          "text": [
            "Downloading data from https://storage.googleapis.com/tensorflow/keras-applications/inception_resnet_v2/inception_resnet_v2_weights_tf_dim_ordering_tf_kernels_notop.h5\n",
            "219062272/219055592 [==============================] - 2s 0us/step\n",
            "219070464/219055592 [==============================] - 2s 0us/step\n"
          ]
        }
      ],
      "source": [
        "resnet = InceptionResNetV2(input_shape=(80,80,3), weights='imagenet', include_top=False)"
      ]
    },
    {
      "cell_type": "code",
      "execution_count": null,
      "metadata": {
        "id": "knpg4Jjze6JG"
      },
      "outputs": [],
      "source": [
        "y = y.reshape(13138, 1)"
      ]
    },
    {
      "cell_type": "code",
      "execution_count": null,
      "metadata": {
        "colab": {
          "base_uri": "https://localhost:8080/"
        },
        "id": "y1Vb5P9MfcA7",
        "outputId": "66a34004-4998-4b8a-b87e-a24471b0df54"
      },
      "outputs": [
        {
          "output_type": "execute_result",
          "data": {
            "text/plain": [
              "(13138, 1)"
            ]
          },
          "metadata": {},
          "execution_count": 8
        }
      ],
      "source": [
        "y.shape"
      ]
    },
    {
      "cell_type": "code",
      "execution_count": null,
      "metadata": {
        "id": "rdRC21n1TTAA"
      },
      "outputs": [],
      "source": [
        "for layer in resnet.layers:\n",
        "  layer.trainable = False"
      ]
    },
    {
      "cell_type": "code",
      "execution_count": null,
      "metadata": {
        "id": "mXplTT1iT-nA"
      },
      "outputs": [],
      "source": [
        "x = Flatten()(resnet.output)"
      ]
    },
    {
      "cell_type": "code",
      "execution_count": null,
      "metadata": {
        "id": "Lafz3Ox8SOLS"
      },
      "outputs": [],
      "source": [
        "x = Dense(128, activation='relu', name='fcl1')(x)"
      ]
    },
    {
      "cell_type": "code",
      "source": [
        "x = Dense(64, activation='relu', name='fcl2')(x)"
      ],
      "metadata": {
        "id": "9hUh0qK5vrmx"
      },
      "execution_count": null,
      "outputs": []
    },
    {
      "cell_type": "code",
      "execution_count": null,
      "metadata": {
        "id": "sLPVVAoTSZtb"
      },
      "outputs": [],
      "source": [
        "x = Dropout(0.3)(x)"
      ]
    },
    {
      "cell_type": "code",
      "execution_count": null,
      "metadata": {
        "id": "fLsGQoo-UWZV"
      },
      "outputs": [],
      "source": [
        "prediction = Dense(4, activation='softmax', name='prediction')(x)"
      ]
    },
    {
      "cell_type": "code",
      "execution_count": null,
      "metadata": {
        "id": "GYR3JnchUWiH"
      },
      "outputs": [],
      "source": [
        "model = Model(inputs=resnet.input, outputs=prediction)"
      ]
    },
    {
      "cell_type": "code",
      "execution_count": null,
      "metadata": {
        "id": "0FBV5TduUcr6"
      },
      "outputs": [],
      "source": [
        "model.summary()"
      ]
    },
    {
      "cell_type": "code",
      "execution_count": null,
      "metadata": {
        "id": "IZGhM_XVUc2D"
      },
      "outputs": [],
      "source": [
        "import tensorflow as tf\n",
        "\n",
        "\n",
        "model.compile(\n",
        "  loss='sparse_categorical_crossentropy',\n",
        "  optimizer='adam',\n",
        "  metrics=['accuracy']\n",
        ")"
      ]
    },
    {
      "cell_type": "code",
      "execution_count": null,
      "metadata": {
        "id": "UL8aTa78T-1S",
        "colab": {
          "base_uri": "https://localhost:8080/"
        },
        "outputId": "57c0ec47-45b8-46d2-f6cf-752c210c416a"
      },
      "outputs": [
        {
          "output_type": "stream",
          "name": "stdout",
          "text": [
            "Epoch 1/10\n",
            "329/329 [==============================] - 36s 56ms/step - loss: 8.0945 - accuracy: 0.2768 - val_loss: 1.3730 - val_accuracy: 0.3075\n",
            "Epoch 2/10\n",
            "329/329 [==============================] - 15s 44ms/step - loss: 1.3729 - accuracy: 0.2959 - val_loss: 1.3662 - val_accuracy: 0.3075\n",
            "Epoch 3/10\n",
            "329/329 [==============================] - 15s 46ms/step - loss: 1.3703 - accuracy: 0.2959 - val_loss: 1.3644 - val_accuracy: 0.3075\n",
            "Epoch 4/10\n",
            "329/329 [==============================] - 17s 52ms/step - loss: 1.3703 - accuracy: 0.2959 - val_loss: 1.3640 - val_accuracy: 0.3075\n",
            "Epoch 5/10\n",
            "329/329 [==============================] - 17s 52ms/step - loss: 1.3701 - accuracy: 0.2959 - val_loss: 1.3637 - val_accuracy: 0.3075\n",
            "Epoch 6/10\n",
            "329/329 [==============================] - 17s 52ms/step - loss: 1.3700 - accuracy: 0.2959 - val_loss: 1.3637 - val_accuracy: 0.3075\n",
            "Epoch 7/10\n",
            "329/329 [==============================] - 15s 45ms/step - loss: 1.3699 - accuracy: 0.2959 - val_loss: 1.3636 - val_accuracy: 0.3075\n",
            "Epoch 8/10\n",
            "329/329 [==============================] - 15s 45ms/step - loss: 1.3702 - accuracy: 0.2959 - val_loss: 1.3637 - val_accuracy: 0.3075\n",
            "Epoch 9/10\n",
            "329/329 [==============================] - 21s 63ms/step - loss: 1.3699 - accuracy: 0.2959 - val_loss: 1.3636 - val_accuracy: 0.3075\n",
            "Epoch 10/10\n",
            "329/329 [==============================] - 17s 52ms/step - loss: 1.3698 - accuracy: 0.2959 - val_loss: 1.3637 - val_accuracy: 0.3075\n"
          ]
        },
        {
          "output_type": "execute_result",
          "data": {
            "text/plain": [
              "<keras.callbacks.History at 0x7f3d23801410>"
            ]
          },
          "metadata": {},
          "execution_count": 20
        }
      ],
      "source": [
        "model.fit(X, y, batch_size=32, epochs=10, validation_split=0.2)\n"
      ]
    }
  ],
  "metadata": {
    "accelerator": "GPU",
    "colab": {
      "provenance": []
    },
    "gpuClass": "standard",
    "kernelspec": {
      "display_name": "Python 3.9.13 64-bit (windows store)",
      "language": "python",
      "name": "python3"
    },
    "language_info": {
      "name": "python",
      "version": "3.9.13"
    },
    "vscode": {
      "interpreter": {
        "hash": "741abe6bbf18458da69ade76c412238b64c8fa3b98f5315b280b5b0ea47d6671"
      }
    }
  },
  "nbformat": 4,
  "nbformat_minor": 0
}