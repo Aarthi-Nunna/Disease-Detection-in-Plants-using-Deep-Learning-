{
  "cells": [
    {
      "cell_type": "markdown",
      "metadata": {
        "id": "-VWm9mn_7VrY"
      },
      "source": [
        "<h2> Transfer Learning - ResNet152V2 + ANN (1 hidden 128 nodes)</h2>\n",
        "<hr>\n",
        "<h4> Number of classes - 4 </h4>\n",
        "0: Common Rust - 1306 images<br>\n",
        "1: Gray Leaf Spot - 574 images<br>\n",
        "2: Blight -1146 images<br>\n",
        "3: Healthy - 1162 images<br>\n",
        "<hr>\n",
        "<h4> Validation Split - 0.2</h4>\n",
        "<h4> Accuracy - % </h4>\n",
        "<h4> Epochs - 5 </h4>\n"
      ]
    },
    {
      "cell_type": "code",
      "execution_count": null,
      "metadata": {
        "id": "DwJ7zPJ2d2yP",
        "colab": {
          "base_uri": "https://localhost:8080/"
        },
        "outputId": "252691ef-309c-4b4b-fc13-261fdfa90ee7"
      },
      "outputs": [
        {
          "output_type": "stream",
          "name": "stdout",
          "text": [
            "Drive already mounted at /content/drive; to attempt to forcibly remount, call drive.mount(\"/content/drive\", force_remount=True).\n"
          ]
        }
      ],
      "source": [
        "from google.colab import drive\n",
        "drive.mount('/content/drive')"
      ]
    },
    {
      "cell_type": "code",
      "execution_count": null,
      "metadata": {
        "id": "3fcn6-7AeDO4"
      },
      "outputs": [],
      "source": [
        "import pickle\n",
        "X = pickle.load(open('/content/drive/MyDrive/data/X.pickle', 'rb'))\n",
        "y = pickle.load(open('/content/drive/MyDrive/data/y.pickle', 'rb'))"
      ]
    },
    {
      "cell_type": "code",
      "execution_count": null,
      "metadata": {
        "colab": {
          "base_uri": "https://localhost:8080/"
        },
        "id": "ZvQLZ2R1e5eo",
        "outputId": "331ee95c-87c5-4a24-ff6c-a70c19bf54f7"
      },
      "outputs": [
        {
          "output_type": "execute_result",
          "data": {
            "text/plain": [
              "(4762, 80, 80, 3)"
            ]
          },
          "metadata": {},
          "execution_count": 22
        }
      ],
      "source": [
        "X.shape"
      ]
    },
    {
      "cell_type": "code",
      "execution_count": null,
      "metadata": {
        "id": "cIUHgVFcTSwN"
      },
      "outputs": [],
      "source": [
        "from keras.layers import Input, Lambda, Dense, Flatten, Dropout\n",
        "from keras.models import Model\n",
        "from keras.applications.resnet_v2 import ResNet152V2\n",
        "from keras.applications.resnet_v2 import preprocess_input\n",
        "from keras.preprocessing import image\n",
        "from keras.models import Sequential\n",
        "import numpy as np"
      ]
    },
    {
      "cell_type": "markdown",
      "metadata": {
        "id": "oXgMedYe7Vrf"
      },
      "source": [
        "<h3>ResNet152V2</h3>"
      ]
    },
    {
      "cell_type": "code",
      "execution_count": null,
      "metadata": {
        "id": "vn-Nv28qTS5h"
      },
      "outputs": [],
      "source": [
        "resnet = ResNet152V2(input_shape=(80,80,3), weights='imagenet', include_top=False)"
      ]
    },
    {
      "cell_type": "code",
      "execution_count": null,
      "metadata": {
        "id": "knpg4Jjze6JG"
      },
      "outputs": [],
      "source": [
        "y = y.reshape(4762, 1)"
      ]
    },
    {
      "cell_type": "code",
      "execution_count": null,
      "metadata": {
        "colab": {
          "base_uri": "https://localhost:8080/"
        },
        "id": "y1Vb5P9MfcA7",
        "outputId": "cf9e49e8-8744-4d4d-c3f7-44ae848ceecb"
      },
      "outputs": [
        {
          "output_type": "execute_result",
          "data": {
            "text/plain": [
              "(4762, 1)"
            ]
          },
          "metadata": {},
          "execution_count": 26
        }
      ],
      "source": [
        "y.shape"
      ]
    },
    {
      "cell_type": "code",
      "execution_count": null,
      "metadata": {
        "id": "rdRC21n1TTAA"
      },
      "outputs": [],
      "source": [
        "for layer in resnet.layers:\n",
        "  layer.trainable = False"
      ]
    },
    {
      "cell_type": "code",
      "execution_count": null,
      "metadata": {
        "id": "mXplTT1iT-nA"
      },
      "outputs": [],
      "source": [
        "x = Flatten()(resnet.output)"
      ]
    },
    {
      "cell_type": "markdown",
      "metadata": {
        "id": "cYUG2UQP7Vrj"
      },
      "source": [
        "<h3>ANN</h3>"
      ]
    },
    {
      "cell_type": "code",
      "execution_count": null,
      "metadata": {
        "id": "Lafz3Ox8SOLS"
      },
      "outputs": [],
      "source": [
        "x = Dense(128, activation='relu', name='fcl1')(x)"
      ]
    },
    {
      "cell_type": "code",
      "source": [
        "x = Dense(64, activation='relu', name='fcl2')(x)"
      ],
      "metadata": {
        "id": "K1qN83x0Gs0o"
      },
      "execution_count": null,
      "outputs": []
    },
    {
      "cell_type": "code",
      "execution_count": null,
      "metadata": {
        "id": "sLPVVAoTSZtb"
      },
      "outputs": [],
      "source": [
        "x = Dropout(0.2)(x)"
      ]
    },
    {
      "cell_type": "code",
      "execution_count": null,
      "metadata": {
        "id": "fLsGQoo-UWZV"
      },
      "outputs": [],
      "source": [
        "prediction = Dense(4, activation='softmax', name='prediction')(x)"
      ]
    },
    {
      "cell_type": "code",
      "execution_count": null,
      "metadata": {
        "id": "GYR3JnchUWiH"
      },
      "outputs": [],
      "source": [
        "model = Model(inputs=resnet.input, outputs=prediction)"
      ]
    },
    {
      "cell_type": "code",
      "execution_count": null,
      "metadata": {
        "id": "0FBV5TduUcr6"
      },
      "outputs": [],
      "source": [
        "model.summary()"
      ]
    },
    {
      "cell_type": "code",
      "execution_count": null,
      "metadata": {
        "id": "IZGhM_XVUc2D"
      },
      "outputs": [],
      "source": [
        "model.compile(\n",
        "  loss='sparse_categorical_crossentropy',\n",
        "  optimizer='adam',\n",
        "  metrics=['accuracy']\n",
        ")"
      ]
    },
    {
      "cell_type": "code",
      "execution_count": null,
      "metadata": {
        "colab": {
          "base_uri": "https://localhost:8080/"
        },
        "id": "UL8aTa78T-1S",
        "outputId": "077626e4-f322-47a9-9a5c-0374279f40e4"
      },
      "outputs": [
        {
          "output_type": "stream",
          "name": "stdout",
          "text": [
            "Epoch 1/5\n",
            "239/239 [==============================] - 34s 61ms/step - loss: 169.7791 - accuracy: 0.4096 - val_loss: 1.4014 - val_accuracy: 0.3977\n",
            "Epoch 2/5\n",
            "239/239 [==============================] - 11s 46ms/step - loss: 1.4144 - accuracy: 0.2822 - val_loss: 1.3671 - val_accuracy: 0.2497\n",
            "Epoch 3/5\n",
            "239/239 [==============================] - 11s 47ms/step - loss: 1.4093 - accuracy: 0.2610 - val_loss: 1.3858 - val_accuracy: 0.2329\n",
            "Epoch 4/5\n",
            "239/239 [==============================] - 11s 47ms/step - loss: 1.3782 - accuracy: 0.2620 - val_loss: 1.3135 - val_accuracy: 0.2760\n",
            "Epoch 5/5\n",
            "239/239 [==============================] - 11s 47ms/step - loss: 1.4267 - accuracy: 0.2707 - val_loss: 1.3867 - val_accuracy: 0.2340\n"
          ]
        },
        {
          "output_type": "execute_result",
          "data": {
            "text/plain": [
              "<keras.callbacks.History at 0x7f4127b7e150>"
            ]
          },
          "metadata": {},
          "execution_count": 36
        }
      ],
      "source": [
        "model.fit(X, y, batch_size=16, epochs=5, validation_split=0.2)\n"
      ]
    }
  ],
  "metadata": {
    "accelerator": "GPU",
    "colab": {
      "provenance": []
    },
    "gpuClass": "standard",
    "kernelspec": {
      "display_name": "Python 3.9.13 64-bit (windows store)",
      "language": "python",
      "name": "python3"
    },
    "language_info": {
      "name": "python",
      "version": "3.9.13"
    },
    "vscode": {
      "interpreter": {
        "hash": "741abe6bbf18458da69ade76c412238b64c8fa3b98f5315b280b5b0ea47d6671"
      }
    }
  },
  "nbformat": 4,
  "nbformat_minor": 0
}