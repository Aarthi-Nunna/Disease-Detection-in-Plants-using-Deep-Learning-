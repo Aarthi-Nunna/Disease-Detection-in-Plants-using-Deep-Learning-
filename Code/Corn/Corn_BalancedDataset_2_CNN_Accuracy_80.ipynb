{
  "nbformat": 4,
  "nbformat_minor": 0,
  "metadata": {
    "colab": {
      "provenance": []
    },
    "kernelspec": {
      "name": "python3",
      "display_name": "Python 3"
    },
    "language_info": {
      "name": "python"
    }
  },
  "cells": [
    {
      "cell_type": "code",
      "execution_count": null,
      "metadata": {
        "colab": {
          "base_uri": "https://localhost:8080/"
        },
        "id": "YAoFLvS1tIxd",
        "outputId": "46157f5c-f139-467e-9d54-85eccf14085f"
      },
      "outputs": [
        {
          "output_type": "stream",
          "name": "stdout",
          "text": [
            "Mounted at /content/drive\n"
          ]
        }
      ],
      "source": [
        "from google.colab import drive\n",
        "drive.mount('/content/drive')\n",
        "\n",
        "import numpy as np\n",
        "import matplotlib.pyplot as plt\n",
        "import os\n",
        "import cv2\n",
        "from tqdm import tqdm"
      ]
    },
    {
      "cell_type": "code",
      "source": [
        "import tensorflow as tf\n",
        "from tensorflow.keras.models import Sequential\n",
        "from tensorflow.keras.layers import Dense, Dropout, Activation, Flatten\n",
        "from tensorflow.keras.layers import Conv2D, MaxPooling2D\n",
        "\n",
        "\n",
        "import pickle\n",
        "X = pickle.load(open('/content/drive/MyDrive/data/X.pickle', 'rb'))\n",
        "y = pickle.load(open('/content/drive/MyDrive/data/y.pickle', 'rb'))\n",
        "\n",
        "\n",
        "model = Sequential()\n",
        "\n",
        "model.add(Conv2D(64, (3, 3), input_shape=X.shape[1:]))\n",
        "model.add(Activation('relu'))\n",
        "model.add(MaxPooling2D(pool_size=(2, 2)))\n",
        "\n",
        "model.add(Conv2D(64, (3, 3)))\n",
        "model.add(Activation('relu'))\n",
        "model.add(MaxPooling2D(pool_size=(2, 2)))\n",
        "\n",
        "model.add(Flatten())  # this converts our 3D feature maps to 1D feature vectors\n",
        "\n",
        "model.add(Dense(64))\n",
        "model.add(Activation('relu'))\n",
        "\n",
        "model.add(Dense(4))\n",
        "model.add(Activation('sigmoid'))\n",
        "\n",
        "model.compile(loss='sparse_categorical_crossentropy',\n",
        "              optimizer='adam',\n",
        "              metrics=['accuracy'])\n",
        "\n",
        "\n",
        "#X = datagen.flow(X,y,batch_size=32, subset='training')\n",
        "#model.fit(datagen.flow(X, y, batch_size=32,subset='training'), validation_split = 0.2,epochs=6)\n",
        "\n",
        "\n",
        "model.fit(X, y, batch_size=32, epochs=20, validation_split=0.3)"
      ],
      "metadata": {
        "colab": {
          "base_uri": "https://localhost:8080/"
        },
        "id": "FpDveUBmtvY_",
        "outputId": "38e2dcdb-9b10-415d-a689-daf6c548ec51"
      },
      "execution_count": null,
      "outputs": [
        {
          "output_type": "stream",
          "name": "stdout",
          "text": [
            "Epoch 1/20\n",
            "105/105 [==============================] - 51s 477ms/step - loss: 6.8114 - accuracy: 0.5743 - val_loss: 0.8368 - val_accuracy: 0.6914\n",
            "Epoch 2/20\n",
            "105/105 [==============================] - 49s 470ms/step - loss: 0.7921 - accuracy: 0.7177 - val_loss: 0.8318 - val_accuracy: 0.7110\n",
            "Epoch 3/20\n",
            "105/105 [==============================] - 51s 491ms/step - loss: 0.6036 - accuracy: 0.7867 - val_loss: 0.6536 - val_accuracy: 0.7922\n",
            "Epoch 4/20\n",
            "105/105 [==============================] - 49s 469ms/step - loss: 0.6495 - accuracy: 0.7660 - val_loss: 0.7829 - val_accuracy: 0.7187\n",
            "Epoch 5/20\n",
            "105/105 [==============================] - 49s 467ms/step - loss: 0.3926 - accuracy: 0.8590 - val_loss: 0.7406 - val_accuracy: 0.7831\n",
            "Epoch 6/20\n",
            "105/105 [==============================] - 52s 498ms/step - loss: 0.2592 - accuracy: 0.9097 - val_loss: 0.8408 - val_accuracy: 0.7691\n",
            "Epoch 7/20\n",
            "105/105 [==============================] - 50s 476ms/step - loss: 0.2093 - accuracy: 0.9301 - val_loss: 0.7454 - val_accuracy: 0.8013\n",
            "Epoch 8/20\n",
            "105/105 [==============================] - 50s 473ms/step - loss: 0.1717 - accuracy: 0.9436 - val_loss: 0.9965 - val_accuracy: 0.7859\n",
            "Epoch 9/20\n",
            "105/105 [==============================] - 49s 470ms/step - loss: 0.1242 - accuracy: 0.9622 - val_loss: 1.0518 - val_accuracy: 0.7621\n",
            "Epoch 10/20\n",
            "105/105 [==============================] - 51s 488ms/step - loss: 0.1480 - accuracy: 0.9547 - val_loss: 1.1423 - val_accuracy: 0.7796\n",
            "Epoch 11/20\n",
            "105/105 [==============================] - 49s 471ms/step - loss: 0.0844 - accuracy: 0.9763 - val_loss: 1.1958 - val_accuracy: 0.7488\n",
            "Epoch 12/20\n",
            "105/105 [==============================] - 49s 471ms/step - loss: 0.1028 - accuracy: 0.9670 - val_loss: 1.1863 - val_accuracy: 0.8034\n",
            "Epoch 13/20\n",
            "105/105 [==============================] - 49s 472ms/step - loss: 0.0374 - accuracy: 0.9898 - val_loss: 1.2870 - val_accuracy: 0.7922\n",
            "Epoch 14/20\n",
            "105/105 [==============================] - 52s 493ms/step - loss: 0.0310 - accuracy: 0.9943 - val_loss: 1.4841 - val_accuracy: 0.7929\n",
            "Epoch 15/20\n",
            "105/105 [==============================] - 49s 470ms/step - loss: 0.1003 - accuracy: 0.9712 - val_loss: 1.5808 - val_accuracy: 0.7887\n",
            "Epoch 16/20\n",
            "105/105 [==============================] - 49s 466ms/step - loss: 0.1180 - accuracy: 0.9700 - val_loss: 1.3351 - val_accuracy: 0.7789\n",
            "Epoch 17/20\n",
            "105/105 [==============================] - 52s 493ms/step - loss: 0.1017 - accuracy: 0.9817 - val_loss: 1.4835 - val_accuracy: 0.7950\n",
            "Epoch 18/20\n",
            "105/105 [==============================] - 50s 479ms/step - loss: 0.0251 - accuracy: 0.9955 - val_loss: 1.4521 - val_accuracy: 0.7922\n",
            "Epoch 19/20\n",
            "105/105 [==============================] - 50s 474ms/step - loss: 0.0148 - accuracy: 0.9973 - val_loss: 1.4323 - val_accuracy: 0.8097\n",
            "Epoch 20/20\n",
            "105/105 [==============================] - 50s 474ms/step - loss: 0.0048 - accuracy: 0.9994 - val_loss: 1.5312 - val_accuracy: 0.8069\n"
          ]
        },
        {
          "output_type": "execute_result",
          "data": {
            "text/plain": [
              "<keras.callbacks.History at 0x7f713f9d3fd0>"
            ]
          },
          "metadata": {},
          "execution_count": 2
        }
      ]
    }
  ]
}