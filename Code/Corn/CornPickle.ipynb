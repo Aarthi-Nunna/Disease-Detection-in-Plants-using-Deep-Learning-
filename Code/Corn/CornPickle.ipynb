{
  "nbformat": 4,
  "nbformat_minor": 0,
  "metadata": {
    "colab": {
      "provenance": []
    },
    "kernelspec": {
      "name": "python3",
      "display_name": "Python 3"
    },
    "language_info": {
      "name": "python"
    }
  },
  "cells": [
    {
      "cell_type": "markdown",
      "source": [
        "Creating pickle files for Corn Dataset\n",
        "<hr>\n",
        "About the Dataset:<br>\n",
        "<br>\n",
        "0: Common Rust - 1306 images<br>\n",
        "1: Gray Leaf Spot - 574 images<br>\n",
        "2: Blight -1146 images<br>\n",
        "3: Healthy - 1162 images<br>\n"
      ],
      "metadata": {
        "id": "hfFAKdXjkaWI"
      }
    },
    {
      "cell_type": "code",
      "execution_count": null,
      "metadata": {
        "colab": {
          "base_uri": "https://localhost:8080/"
        },
        "id": "vpBLgI17kPRL",
        "outputId": "61d55e43-871e-43f5-b158-a65d6f6cc088"
      },
      "outputs": [
        {
          "output_type": "stream",
          "name": "stdout",
          "text": [
            "Drive already mounted at /content/drive; to attempt to forcibly remount, call drive.mount(\"/content/drive\", force_remount=True).\n"
          ]
        }
      ],
      "source": [
        "from google.colab import drive\n",
        "drive.mount('/content/drive')\n",
        "\n",
        "\n",
        "import numpy as np\n",
        "import matplotlib.pyplot as plt\n",
        "import os\n",
        "import cv2\n",
        "from tqdm import tqdm\n",
        "\n",
        "\n",
        "DATADIR = \"/content/drive/MyDrive/data\""
      ]
    },
    {
      "cell_type": "code",
      "source": [
        "import imgaug.augmenters as iaa\n",
        "from matplotlib import pyplot as plt\n",
        "\n",
        "from google.colab.patches import cv2_imshow\n",
        "\n",
        "training_data = []\n",
        "\n",
        "IMG_SIZE = 80\n",
        "\n",
        "CATEGORIES = [\"Blight\",\"Common_Rust\",\"Gray_Leaf_Spot\",\"Healthy\"]\n",
        "\n",
        "\n",
        "from keras.preprocessing.image import ImageDataGenerator, array_to_img, img_to_array, load_img\n",
        "\n",
        "def create_training_data():\n",
        "    for category in CATEGORIES:  # do\n",
        "        path = os.path.join(DATADIR,category)  # create path to Blight, Common_rust, Gray_Leaf_Spot, Healthy\n",
        "        class_num = CATEGORIES.index(category)  # get the classification  0=Blight 1=Common_Rust 2=Leaf_Spot 3=Healthy\n",
        "        for img in tqdm(os.listdir(path)):  # iterate over each image \n",
        "            try:\n",
        "                #augmentation of data\n",
        "                image_new = cv2.imread(os.path.join(path,img))\n",
        "                #cv2_imshow(image_new)\n",
        "                if class_num == 2:\n",
        "                  augmentation = iaa.Sequential([iaa.Fliplr(1)])\n",
        "                  augmented_image = augmentation(image = image_new)\n",
        "                  #img_array_new = cv2.imread(augmented_image)\n",
        "                  new_array_new = cv2.resize(augmented_image, (IMG_SIZE, IMG_SIZE))\n",
        "                  training_data.append([new_array_new,class_num])\n",
        "\n",
        "                img_array = cv2.imread(os.path.join(path,img))  # convert to array\n",
        "                new_array = cv2.resize(img_array, (IMG_SIZE, IMG_SIZE))  # resize to normalize data size\n",
        "                training_data.append([new_array, class_num])  # add this to our training_data\n",
        "\n",
        "            except Exception as e:  # in the interest in keeping the output clean...\n",
        "                print(e)\n",
        "      \n",
        "\n",
        "create_training_data()\n",
        "\n",
        "print(len(training_data))"
      ],
      "metadata": {
        "colab": {
          "base_uri": "https://localhost:8080/"
        },
        "id": "oFFgpN2Bkkvd",
        "outputId": "9af83830-5158-46e7-a195-f07dc38157f9"
      },
      "execution_count": null,
      "outputs": [
        {
          "output_type": "stream",
          "name": "stderr",
          "text": [
            "100%|██████████| 1146/1146 [00:17<00:00, 64.12it/s]\n",
            "100%|██████████| 1306/1306 [00:18<00:00, 69.51it/s]\n",
            "100%|██████████| 574/574 [00:07<00:00, 74.29it/s] \n",
            "100%|██████████| 1162/1162 [00:08<00:00, 135.34it/s]"
          ]
        },
        {
          "output_type": "stream",
          "name": "stdout",
          "text": [
            "4762\n"
          ]
        },
        {
          "output_type": "stream",
          "name": "stderr",
          "text": [
            "\n"
          ]
        }
      ]
    },
    {
      "cell_type": "code",
      "source": [
        "import random\n",
        "\n",
        "random.shuffle(training_data)\n",
        "\n",
        "X = []\n",
        "y = []\n",
        "\n",
        "for features,label in training_data:\n",
        "    X.append(features)\n",
        "    y.append(label)\n",
        "\n",
        "\n",
        "X = np.array(X).reshape(-1, IMG_SIZE, IMG_SIZE, 3)\n",
        "y = np.array(y)"
      ],
      "metadata": {
        "id": "WQF9H-ELmuI_"
      },
      "execution_count": null,
      "outputs": []
    },
    {
      "cell_type": "code",
      "source": [
        "X.shape"
      ],
      "metadata": {
        "colab": {
          "base_uri": "https://localhost:8080/"
        },
        "id": "3qmKUxxusOK0",
        "outputId": "cad63a34-fffb-43a9-e969-918bdc5ba84b"
      },
      "execution_count": null,
      "outputs": [
        {
          "output_type": "execute_result",
          "data": {
            "text/plain": [
              "(4762, 80, 80, 3)"
            ]
          },
          "metadata": {},
          "execution_count": 18
        }
      ]
    },
    {
      "cell_type": "code",
      "source": [
        "y.shape"
      ],
      "metadata": {
        "colab": {
          "base_uri": "https://localhost:8080/"
        },
        "id": "CePREKDH6F5W",
        "outputId": "cf422c5a-444e-4c75-d3fa-340ed2432fdb"
      },
      "execution_count": null,
      "outputs": [
        {
          "output_type": "execute_result",
          "data": {
            "text/plain": [
              "(4762,)"
            ]
          },
          "metadata": {},
          "execution_count": 19
        }
      ]
    },
    {
      "cell_type": "code",
      "source": [
        "import pickle\n",
        "\n",
        "pickle_out = open(\"X.pickle\",\"wb\")\n",
        "pickle.dump(X, pickle_out)\n",
        "pickle_out.close()\n",
        "\n",
        "pickle_out = open(\"y.pickle\",\"wb\")\n",
        "pickle.dump(y, pickle_out)\n",
        "pickle_out.close()"
      ],
      "metadata": {
        "id": "Cb79C2v-6UIN"
      },
      "execution_count": null,
      "outputs": []
    }
  ]
}